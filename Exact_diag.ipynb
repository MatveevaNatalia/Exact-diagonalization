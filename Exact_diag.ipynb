{
 "cells": [
  {
   "cell_type": "code",
   "execution_count": 1,
   "metadata": {
    "collapsed": false
   },
   "outputs": [],
   "source": [
    "import numpy as np\n",
    "from numpy import linalg as LA\n",
    "from Func import *\n"
   ]
  },
  {
   "cell_type": "code",
   "execution_count": 10,
   "metadata": {
    "collapsed": false
   },
   "outputs": [
    {
     "name": "stdout",
     "output_type": "stream",
     "text": [
      "[3, 4, 5]\n"
     ]
    }
   ],
   "source": [
    "a = [0]*3\n",
    "a = [index + 3 for index, __ in enumerate(a)]\n",
    "print(a)"
   ]
  },
  {
   "cell_type": "code",
   "execution_count": 2,
   "metadata": {
    "collapsed": false
   },
   "outputs": [
    {
     "name": "stdout",
     "output_type": "stream",
     "text": [
      "Array of single-particle energies:\n",
      "Level index:  0  single particle energy:  0.0\n",
      "Level index:  1  single particle energy:  1.0\n",
      "Level index:  2  single particle energy:  2.0\n",
      "Level index:  3  single particle energy:  3.0\n",
      "List of non-zero scattering elements\n",
      "(in the format [[i,j,k,l],V_ijkl]):\n",
      "0 [[0, 3, 1, 2], [1.0]]\n",
      "1 [[1, 2, 0, 3], [1.0]]\n",
      "List of non-zero scattering elements after changing V_ijkl:\n",
      "0 [[0, 3, 1, 2], [10.0]]\n",
      "1 [[1, 2, 0, 3], [1.0]]\n",
      "List of non-zero scattering elements after changing V_ijkl:\n",
      "0 [[0, 3, 1, 2], [1.0]]\n",
      "1 [[1, 2, 0, 3], [1.0]]\n",
      "0 [[0, 3, 1, 2], [1.0]]\n",
      "1 [[1, 2, 0, 3], [1.0]]\n",
      "Ground state vector:\n",
      "[1, 1, 0, 0]\n",
      "List of all states:\n",
      "[(1, 1, 0, 0), (1, 0, 1, 0), (0, 1, 1, 0), (1, 0, 0, 1), (0, 1, 0, 1), (0, 0, 1, 1)]\n",
      "Number of all states\n",
      "6\n",
      "Final list of all states written as integers with corresponding kinetic energy:\n",
      "[[1.0, 12], [2.0, 10], [3.0, 6], [3.0, 9], [4.0, 5], [5.0, 3]]\n",
      "Sorted final list:\n",
      "[[1.0, 12], [2.0, 10], [3.0, 6], [3.0, 9], [4.0, 5], [5.0, 3]]\n",
      "List of all nonzero scattering elements:\n",
      "[[[0, 3, 1, 2], [1.0]], [[1, 2, 0, 3], [1.0]]]\n",
      "Matrix representation of Hamiltonian\n",
      "  0   1   2   3   4   5\n",
      "0 1.0 0.0 0.0 0.0 0.0 0.0\n",
      "1 0.0 2.0 0.0 0.0 0.0 0.0\n",
      "2 0.0 0.0 3.0 -1.0 0.0 0.0\n",
      "3 0.0 0.0 -1.0 3.0 0.0 0.0\n",
      "4 0.0 0.0 0.0 0.0 4.0 0.0\n",
      "5 0.0 0.0 0.0 0.0 0.0 5.0\n",
      "Printing a given eigen vector:\n",
      "[ 0.          0.          0.70710678  0.70710678  0.          0.        ]\n",
      "Basis vectors with corresponding energy:\n",
      "[[1.0, 12], [2.0, 10], [3.0, 6], [3.0, 9], [4.0, 5], [5.0, 3]]\n",
      "Number of basis vectors:\n",
      "6\n",
      "Eigen vectors of Hamiltonian matrix (columns):\n",
      "[[ 0.          0.          1.          0.          0.          0.        ]\n",
      " [ 0.          0.          0.          1.          0.          0.        ]\n",
      " [ 0.70710678  0.70710678  0.          0.          0.          0.        ]\n",
      " [-0.70710678  0.70710678  0.          0.          0.          0.        ]\n",
      " [ 0.          0.          0.          0.          1.          0.        ]\n",
      " [ 0.          0.          0.          0.          0.          1.        ]]\n"
     ]
    }
   ],
   "source": [
    "# Forming N+1 particle subspace\n",
    "\n",
    "# Setting the parameters of the model\n",
    "params_Nplus1 = ParamModel(Num_level = 4, Delta = 1.0, Num_part = 2, Scat_ampl = 1.0)\n",
    "\n",
    "# Formation of an array 'energy_arr' which contains the single-particle energy spectrum\n",
    "\n",
    "energy_arr = Kin_Energy(params_Nplus1)\n",
    "print(\"Array of single-particle energies:\")\n",
    "for i in range(len(energy_arr)):\n",
    "    print(\"Level index: \", i, \" single particle energy: \", energy_arr[i])\n",
    "    \n",
    "# energy_arr[3] = 10. <- way to control the energies manually    \n",
    "\n",
    "# Formation of an array 'scat_elem' which contains scattering elements\n",
    "\n",
    "\n",
    "scat_elem = Find_Scat_Elem(params_Nplus1, restr = True)\n",
    "\n",
    "print(\"List of non-zero scattering elements\")\n",
    "print(\"(in the format [[i,j,k,l],V_ijkl]):\")\n",
    "for i in range(len(scat_elem)):\n",
    "    print( i, scat_elem[i])\n",
    "    \n",
    "# Changing a scattering element\n",
    "\n",
    "index = 0 # number of scat. elem. in 'scat_elem' list\n",
    "value = 10. # new value of scat. elem.\n",
    "\n",
    "Set_Scat_Element(scat_elem, index, value)\n",
    "\n",
    "print(\"List of non-zero scattering elements after changing V_ijkl:\")\n",
    "\n",
    "# Changing the same scattering element back\n",
    "\n",
    "index = 0 \n",
    "value = 1. \n",
    "\n",
    "for i in range(len(scat_elem)):\n",
    "    print( i, scat_elem[i])\n",
    "\n",
    "Set_Scat_Element(scat_elem, index, value)\n",
    "\n",
    "print(\"List of non-zero scattering elements after changing V_ijkl:\")\n",
    "\n",
    "for i in range(len(scat_elem)):\n",
    "    print( i, scat_elem[i])    \n",
    "\n",
    "\n",
    "for i in range(len(scat_elem)):\n",
    "    print( i, scat_elem[i])    \n",
    "\n",
    "basis_Nplus1, eigen_vectors_Nplus1, myMatrix = SubspaceInfo(params_Nplus1, energy_arr, scat_elem, True, True)\n",
    "\n",
    "print(\"Printing a given eigen vector:\")\n",
    "print(eigen_vectors_Nplus1[:,1]) \n",
    "\n",
    "print(\"Basis vectors with corresponding energy:\")\n",
    "print(basis_Nplus1)\n",
    "print(\"Number of basis vectors:\")\n",
    "print(len(basis_Nplus1))\n",
    "print(\"Eigen vectors of Hamiltonian matrix (columns):\")\n",
    "print(eigen_vectors_Nplus1)"
   ]
  },
  {
   "cell_type": "code",
   "execution_count": 3,
   "metadata": {
    "collapsed": false
   },
   "outputs": [
    {
     "name": "stdout",
     "output_type": "stream",
     "text": [
      "Array of single-particle energies:\n",
      "Level index:  0  single particle energy:  0.0\n",
      "Level index:  1  single particle energy:  1.0\n",
      "Level index:  2  single particle energy:  2.0\n",
      "Level index:  3  single particle energy:  3.0\n",
      "List of non-zero scattering elements\n",
      "(in the format [[i,j,k,l],V_ijkl]):\n",
      "0 [[0, 3, 1, 2], [1.0]]\n",
      "1 [[1, 2, 0, 3], [1.0]]\n",
      "Ground state vector:\n",
      "[1, 0, 0, 0]\n",
      "List of all states:\n",
      "[(1, 0, 0, 0), (0, 1, 0, 0), (0, 0, 1, 0), (0, 0, 0, 1)]\n",
      "Number of all states\n",
      "4\n",
      "Final list of all states written as integers with corresponding kinetic energy:\n",
      "[[0.0, 8], [1.0, 4], [2.0, 2], [3.0, 1]]\n",
      "Sorted final list:\n",
      "[[0.0, 8], [1.0, 4], [2.0, 2], [3.0, 1]]\n",
      "List of all nonzero scattering elements:\n",
      "[[[0, 3, 1, 2], [1.0]], [[1, 2, 0, 3], [1.0]]]\n",
      "Matrix representation of Hamiltonian\n",
      "  0   1   2   3\n",
      "0 0.0 0.0 0.0 0.0\n",
      "1 0.0 1.0 0.0 0.0\n",
      "2 0.0 0.0 2.0 0.0\n",
      "3 0.0 0.0 0.0 3.0\n",
      "Basis vectors with corresponding energy:\n",
      "[[0.0, 8], [1.0, 4], [2.0, 2], [3.0, 1]]\n",
      "Number of basis vectors:\n",
      "4\n",
      "Eigen vectors of Hamiltonian matrix:\n",
      "[[ 1.  0.  0.  0.]\n",
      " [ 0.  1.  0.  0.]\n",
      " [ 0.  0.  1.  0.]\n",
      " [ 0.  0.  0.  1.]]\n"
     ]
    }
   ],
   "source": [
    "# Forming N particle subspace\n",
    "\n",
    "params_N = ParamModel(Num_level = 4, Delta = 1.0, Num_part = 1, Scat_ampl = 1.0)\n",
    "\n",
    "\n",
    "# Formation of an array 'energy_arr' which contains the single-particle energy spectrum\n",
    "energy_arr = Kin_Energy(params_N)\n",
    "print(\"Array of single-particle energies:\")\n",
    "for i in range(len(energy_arr)):\n",
    "    print(\"Level index: \", i, \" single particle energy: \", energy_arr[i])\n",
    "# energy_arr[3] = 10. <- way to control the energies manually    \n",
    "\n",
    "# Formation of an array 'scat_elem' which contains scattering elements\n",
    "\n",
    "\n",
    "scat_elem = Find_Scat_Elem(params_N, restr = True)\n",
    "\n",
    "print(\"List of non-zero scattering elements\")\n",
    "print(\"(in the format [[i,j,k,l],V_ijkl]):\")\n",
    "for i in range(len(scat_elem)):\n",
    "    print( i, scat_elem[i])\n",
    "    \n",
    "\n",
    "basis_N, eigen_vectors_N, my_Matrix = SubspaceInfo(params_N, energy_arr, scat_elem, True, True)\n",
    "\n",
    "\n",
    "print(\"Basis vectors with corresponding energy:\")\n",
    "print(basis_N)\n",
    "print(\"Number of basis vectors:\")\n",
    "print(len(basis_N))\n",
    "print(\"Eigen vectors of Hamiltonian matrix:\")\n",
    "print(eigen_vectors_N)"
   ]
  },
  {
   "cell_type": "code",
   "execution_count": 4,
   "metadata": {
    "collapsed": false
   },
   "outputs": [
    {
     "name": "stdout",
     "output_type": "stream",
     "text": [
      "N=  1 N+1=  2\n",
      "i=  0 j= 0 0.707106781187\n",
      "i=  0 j= 1 -0.707106781187\n",
      "i=  0 j= 2 -1.0\n",
      "i=  0 j= 3 -1.0\n",
      "i=  0 j= 4 0.0\n",
      "i=  0 j= 5 0.0\n",
      "i=  1 j= 0 -0.707106781187\n",
      "i=  1 j= 1 -0.707106781187\n",
      "i=  1 j= 2 1.0\n",
      "i=  1 j= 3 0.0\n",
      "i=  1 j= 4 -1.0\n",
      "i=  1 j= 5 0.0\n",
      "i=  2 j= 0 0.707106781187\n",
      "i=  2 j= 1 0.707106781187\n",
      "i=  2 j= 2 0.0\n",
      "i=  2 j= 3 1.0\n",
      "i=  2 j= 4 0.0\n",
      "i=  2 j= 5 -1.0\n",
      "i=  3 j= 0 -0.707106781187\n",
      "i=  3 j= 1 0.707106781187\n",
      "i=  3 j= 2 0.0\n",
      "i=  3 j= 3 0.0\n",
      "i=  3 j= 4 1.0\n",
      "i=  3 j= 5 1.0\n"
     ]
    }
   ],
   "source": [
    "MastEqPrep(basis_Nplus1, eigen_vectors_Nplus1, params_Nplus1, basis_N, eigen_vectors_N, False)"
   ]
  },
  {
   "cell_type": "code",
   "execution_count": 9,
   "metadata": {
    "collapsed": false
   },
   "outputs": [
    {
     "name": "stderr",
     "output_type": "stream",
     "text": [
      "test_6_5 (tests.TestGround_State) ... ok\n",
      "test_6_6 (tests.TestGround_State) ... ok\n",
      "test_error_negative (tests.TestGround_State) ... ok\n",
      "test_error_smaller (tests.TestGround_State) ... ok\n",
      "\n",
      "----------------------------------------------------------------------\n",
      "Ran 4 tests in 0.019s\n",
      "\n",
      "OK\n",
      "test_7 (tests.TestTo_integer) ... ok\n",
      "\n",
      "----------------------------------------------------------------------\n",
      "Ran 1 test in 0.006s\n",
      "\n",
      "OK\n",
      "test_4 (tests.TestKillState) ... ok\n",
      "test_negative_numbers (tests.TestKillState) ... ok\n",
      "test_too_big_index (tests.TestKillState) ... ok\n",
      "\n",
      "----------------------------------------------------------------------\n",
      "Ran 3 tests in 0.014s\n",
      "\n",
      "OK\n",
      "test_12 (tests.TestCreateState) ... ok\n",
      "test_negative_numbers (tests.TestCreateState) ... ok\n",
      "test_too_big_index (tests.TestCreateState) ... ok\n",
      "\n",
      "----------------------------------------------------------------------\n",
      "Ran 3 tests in 0.008s\n",
      "\n",
      "OK\n"
     ]
    },
    {
     "data": {
      "text/plain": [
       "<unittest.runner.TextTestResult run=3 errors=0 failures=0>"
      ]
     },
     "execution_count": 9,
     "metadata": {},
     "output_type": "execute_result"
    }
   ],
   "source": [
    "# Some unit test\n",
    "\n",
    "import unittest\n",
    "from tests import *\n",
    "suite = unittest.TestLoader().loadTestsFromTestCase(TestGround_State)\n",
    "unittest.TextTestRunner(verbosity=2).run(suite)\n",
    "\n",
    "suite = unittest.TestLoader().loadTestsFromTestCase(TestTo_integer)\n",
    "unittest.TextTestRunner(verbosity=2).run(suite)\n",
    "\n",
    "suite = unittest.TestLoader().loadTestsFromTestCase(TestKillState)\n",
    "unittest.TextTestRunner(verbosity=2).run(suite)\n",
    "\n",
    "suite = unittest.TestLoader().loadTestsFromTestCase(TestCreateState)\n",
    "unittest.TextTestRunner(verbosity=2).run(suite)\n"
   ]
  },
  {
   "cell_type": "code",
   "execution_count": null,
   "metadata": {
    "collapsed": true
   },
   "outputs": [],
   "source": []
  }
 ],
 "metadata": {
  "kernelspec": {
   "display_name": "Python 3",
   "language": "python",
   "name": "python3"
  },
  "language_info": {
   "codemirror_mode": {
    "name": "ipython",
    "version": 3
   },
   "file_extension": ".py",
   "mimetype": "text/x-python",
   "name": "python",
   "nbconvert_exporter": "python",
   "pygments_lexer": "ipython3",
   "version": "3.5.1"
  }
 },
 "nbformat": 4,
 "nbformat_minor": 0
}
