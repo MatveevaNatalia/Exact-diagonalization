{
 "cells": [
  {
   "cell_type": "code",
   "execution_count": 1,
   "metadata": {
    "collapsed": false
   },
   "outputs": [],
   "source": [
    "import numpy as np\n",
    "from Func import *"
   ]
  },
  {
   "cell_type": "code",
   "execution_count": 2,
   "metadata": {
    "collapsed": true
   },
   "outputs": [],
   "source": [
    "Num_level = 4\n",
    "Num_part = 2\n",
    "Delta = 1.0\n",
    "scat_ampl = 1.0"
   ]
  },
  {
   "cell_type": "code",
   "execution_count": 3,
   "metadata": {
    "collapsed": false
   },
   "outputs": [
    {
     "name": "stdout",
     "output_type": "stream",
     "text": [
      "Ground state vector:\n",
      "[1, 1, 0, 0]\n",
      "List of all exited states:\n",
      "[(1, 1, 0, 0), (1, 0, 1, 0), (0, 1, 1, 0), (1, 0, 0, 1), (0, 1, 0, 1), (0, 0, 1, 1)]\n",
      "Final list of all exited states written as integers with corresponding kinetic energy:\n",
      "[[1.0, 12], [2.0, 10], [3.0, 6], [3.0, 9], [4.0, 5], [5.0, 3]]\n",
      "Sorted final list:\n",
      "[[1.0, 12], [2.0, 10], [3.0, 6], [3.0, 9], [4.0, 5], [5.0, 3]]\n",
      "List of all nonzero scattering elements:\n",
      "[[0, 3, 1, 2], [1, 2, 0, 3]]\n"
     ]
    }
   ],
   "source": [
    "v_ground = Ground_State(Num_level, Num_part)\n",
    "print(\"Ground state vector:\")\n",
    "print(v_ground)\n",
    "state_list = list(perm_unique(v_ground))\n",
    "print(\"List of all exited states:\")\n",
    "print(state_list)\n",
    "final_list = Final_list_create(state_list, Delta)\n",
    "print(\"Final list of all exited states written as integers with corresponding kinetic energy:\")\n",
    "print(final_list)\n",
    "final_list_sorted = sorted(final_list, key=getKey)\n",
    "print(\"Sorted final list:\")\n",
    "print(final_list_sorted)\n",
    "\n",
    "scat_elem = Find_Scat_Elem(Num_level)\n",
    "print(\"List of all nonzero scattering elements:\")\n",
    "print(scat_elem)\n"
   ]
  },
  {
   "cell_type": "code",
   "execution_count": 4,
   "metadata": {
    "collapsed": false
   },
   "outputs": [
    {
     "name": "stdout",
     "output_type": "stream",
     "text": [
      "Matrix representation of Hamiltonian:\n",
      "  0   1   2   3   4   5\n",
      "0 1.0 0.0 0.0 0.0 0.0 0.0\n",
      "1 0.0 2.0 0.0 0.0 0.0 0.0\n",
      "2 0.0 0.0 3.0 1.0 0.0 0.0\n",
      "3 0.0 0.0 1.0 3.0 0.0 0.0\n",
      "4 0.0 0.0 0.0 0.0 4.0 0.0\n",
      "5 0.0 0.0 0.0 0.0 0.0 5.0\n"
     ]
    }
   ],
   "source": [
    "print(\"Matrix representation of Hamiltonian:\")\n",
    "myMatrix = Fill_myMatrix(scat_elem, final_list_sorted, Num_level, scat_ampl)"
   ]
  },
  {
   "cell_type": "code",
   "execution_count": 5,
   "metadata": {
    "collapsed": false
   },
   "outputs": [
    {
     "name": "stdout",
     "output_type": "stream",
     "text": [
      "Eigen values: \n",
      "[ 4.  2.  1.  2.  4.  5.]\n",
      "Eigen vectors:\n",
      "[[ 0.          0.          1.          0.          0.          0.        ]\n",
      " [ 0.          0.          0.          1.          0.          0.        ]\n",
      " [ 0.70710678 -0.70710678  0.          0.          0.          0.        ]\n",
      " [ 0.70710678  0.70710678  0.          0.          0.          0.        ]\n",
      " [ 0.          0.          0.          0.          1.          0.        ]\n",
      " [ 0.          0.          0.          0.          0.          1.        ]]\n",
      "  0   1   2   3   4   5\n",
      "0 0.0 0.0 1.0 0.0 0.0 0.0\n",
      "1 0.0 0.0 0.0 1.0 0.0 0.0\n",
      "2 0.707106781187 -0.707106781187 0.0 0.0 0.0 0.0\n",
      "3 0.707106781187 0.707106781187 0.0 0.0 0.0 0.0\n",
      "4 0.0 0.0 0.0 0.0 1.0 0.0\n",
      "5 0.0 0.0 0.0 0.0 0.0 1.0\n"
     ]
    }
   ],
   "source": [
    "#Diagonalization of Hamiltonian\n",
    "from numpy import linalg as LA\n",
    "\n",
    "w, v = LA.eig(myMatrix)\n",
    "\n",
    "print(\"Eigen values: \")\n",
    "print(w)\n",
    "print(\"Eigen vectors:\")\n",
    "print(v)\n",
    "printMatrix(v)"
   ]
  },
  {
   "cell_type": "code",
   "execution_count": 6,
   "metadata": {
    "collapsed": false
   },
   "outputs": [
    {
     "name": "stdout",
     "output_type": "stream",
     "text": [
      "[[ 1.  0.  0.  0.  0.  0.]\n",
      " [ 0.  2.  0.  0.  0.  0.]\n",
      " [ 0.  0.  3.  1.  0.  0.]\n",
      " [ 0.  0.  1.  3.  0.  0.]\n",
      " [ 0.  0.  0.  0.  4.  0.]\n",
      " [ 0.  0.  0.  0.  0.  5.]]\n",
      "[ 0.          0.         -1.41421356  1.41421356  0.          0.        ]\n",
      "[ 0.          0.         -0.70710678  0.70710678  0.          0.        ]\n",
      "[ nan  nan   2.   2.  nan  nan]\n"
     ]
    },
    {
     "name": "stderr",
     "output_type": "stream",
     "text": [
      "/home/natalia/anaconda3/lib/python3.5/site-packages/ipykernel/__main__.py:7: RuntimeWarning: invalid value encountered in true_divide\n"
     ]
    }
   ],
   "source": [
    "# Tests of matrix diagonalization\n",
    "m = (v.dot(np.diag(w).dot(v.T))) # M = V W V^T, .dot is the matrix multiplication\n",
    "print(m)\n",
    "vect = v[:,1] # Eigen vectors are the coulumns of v\n",
    "print(m.dot(vect))\n",
    "print(vect)\n",
    "print(m.dot(vect)/vect)"
   ]
  },
  {
   "cell_type": "code",
   "execution_count": 10,
   "metadata": {
    "collapsed": false
   },
   "outputs": [
    {
     "name": "stderr",
     "output_type": "stream",
     "text": [
      "test_6_5 (tests.TestGround_State) ... ok\n",
      "test_6_6 (tests.TestGround_State) ... ok\n",
      "test_error_negative (tests.TestGround_State) ... ok\n",
      "test_error_smaller (tests.TestGround_State) ... ok\n",
      "\n",
      "----------------------------------------------------------------------\n",
      "Ran 4 tests in 0.017s\n",
      "\n",
      "OK\n",
      "test_7 (tests.TestTo_integer) ... ok\n",
      "\n",
      "----------------------------------------------------------------------\n",
      "Ran 1 test in 0.004s\n",
      "\n",
      "OK\n",
      "test_4 (tests.TestKillState) ... ok\n",
      "test_negative_numbers (tests.TestKillState) ... ok\n",
      "test_too_big_index (tests.TestKillState) ... ok\n",
      "\n",
      "----------------------------------------------------------------------\n",
      "Ran 3 tests in 0.013s\n",
      "\n",
      "OK\n",
      "test_12 (tests.TestCreateState) ... ok\n",
      "test_negative_numbers (tests.TestCreateState) ... ok\n",
      "test_too_big_index (tests.TestCreateState) ... ok\n",
      "\n",
      "----------------------------------------------------------------------\n",
      "Ran 3 tests in 0.021s\n",
      "\n",
      "OK\n"
     ]
    },
    {
     "data": {
      "text/plain": [
       "<unittest.runner.TextTestResult run=3 errors=0 failures=0>"
      ]
     },
     "execution_count": 10,
     "metadata": {},
     "output_type": "execute_result"
    }
   ],
   "source": [
    "import unittest\n",
    "from tests import *\n",
    "suite = unittest.TestLoader().loadTestsFromTestCase(TestGround_State)\n",
    "unittest.TextTestRunner(verbosity=2).run(suite)\n",
    "\n",
    "suite = unittest.TestLoader().loadTestsFromTestCase(TestTo_integer)\n",
    "unittest.TextTestRunner(verbosity=2).run(suite)\n",
    "\n",
    "suite = unittest.TestLoader().loadTestsFromTestCase(TestKillState)\n",
    "unittest.TextTestRunner(verbosity=2).run(suite)\n",
    "\n",
    "suite = unittest.TestLoader().loadTestsFromTestCase(TestCreateState)\n",
    "unittest.TextTestRunner(verbosity=2).run(suite)\n"
   ]
  },
  {
   "cell_type": "code",
   "execution_count": null,
   "metadata": {
    "collapsed": true
   },
   "outputs": [],
   "source": []
  }
 ],
 "metadata": {
  "kernelspec": {
   "display_name": "Python 3",
   "language": "python",
   "name": "python3"
  },
  "language_info": {
   "codemirror_mode": {
    "name": "ipython",
    "version": 3
   },
   "file_extension": ".py",
   "mimetype": "text/x-python",
   "name": "python",
   "nbconvert_exporter": "python",
   "pygments_lexer": "ipython3",
   "version": "3.5.1"
  }
 },
 "nbformat": 4,
 "nbformat_minor": 0
}
