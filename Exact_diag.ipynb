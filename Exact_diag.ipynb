{
 "cells": [
  {
   "cell_type": "code",
   "execution_count": 1,
   "metadata": {
    "collapsed": false
   },
   "outputs": [],
   "source": [
    "import numpy as np\n",
    "from numpy import linalg as LA\n",
    "from Func import *\n"
   ]
  },
  {
   "cell_type": "code",
   "execution_count": 58,
   "metadata": {
    "collapsed": false
   },
   "outputs": [
    {
     "name": "stdout",
     "output_type": "stream",
     "text": [
      "Ground state vector:\n",
      "[1, 1, 0, 0]\n",
      "List of all states:\n",
      "[(1, 1, 0, 0), (1, 0, 1, 0), (0, 1, 1, 0), (1, 0, 0, 1), (0, 1, 0, 1), (0, 0, 1, 1)]\n",
      "Number of all states\n",
      "6\n",
      "Final list of all states written as integers with corresponding kinetic energy:\n",
      "[[1.0, 12], [2.0, 10], [3.0, 6], [3.0, 9], [4.0, 5], [5.0, 3]]\n",
      "Sorted final list:\n",
      "[[1.0, 12], [2.0, 10], [3.0, 6], [3.0, 9], [4.0, 5], [5.0, 3]]\n",
      "List of all nonzero scattering elements:\n",
      "[[0, 3, 1, 2], [1, 2, 0, 3]]\n",
      "  0   1   2   3   4   5\n",
      "0 1.0 0.0 0.0 0.0 0.0 0.0\n",
      "1 0.0 2.0 0.0 0.0 0.0 0.0\n",
      "2 0.0 0.0 3.0 -1.0 0.0 0.0\n",
      "3 0.0 0.0 -1.0 3.0 0.0 0.0\n",
      "4 0.0 0.0 0.0 0.0 4.0 0.0\n",
      "5 0.0 0.0 0.0 0.0 0.0 5.0\n",
      "Basis vectors with corresponding energy:\n",
      "[[1.0, 12], [2.0, 10], [3.0, 6], [3.0, 9], [4.0, 5], [5.0, 3]]\n",
      "Number of basis vectors:\n",
      "6\n",
      "Eigen vectors:\n",
      "[[ 0.          0.          1.          0.          0.          0.        ]\n",
      " [ 0.          0.          0.          1.          0.          0.        ]\n",
      " [ 0.70710678  0.70710678  0.          0.          0.          0.        ]\n",
      " [-0.70710678  0.70710678  0.          0.          0.          0.        ]\n",
      " [ 0.          0.          0.          0.          1.          0.        ]\n",
      " [ 0.          0.          0.          0.          0.          1.        ]]\n"
     ]
    }
   ],
   "source": [
    "# Forming N+1 particle subspace\n",
    "params_Nplus1 = ParamModel(Num_level = 4, Delta = 1.0, Num_part = 2, Scat_ampl = 1.0)\n",
    "\n",
    "basis_Nplus1, eigen_vectors_Nplus1 = SubspaceInfo(params_Nplus1, verbose_states = True, verbose_matrix = True)\n",
    "print(\"Basis vectors with corresponding energy:\")\n",
    "print(basis_Nplus1)\n",
    "print(\"Number of basis vectors:\")\n",
    "print(len(basis_Nplus1))\n",
    "print(\"Eigen vectors of Hamiltonian matrix:\")\n",
    "print(eigen_vectors_Nplus1)"
   ]
  },
  {
   "cell_type": "code",
   "execution_count": 20,
   "metadata": {
    "collapsed": false
   },
   "outputs": [
    {
     "name": "stdout",
     "output_type": "stream",
     "text": [
      "Ground state vector:\n",
      "[1, 0, 0, 0]\n",
      "List of all states:\n",
      "[(1, 0, 0, 0), (0, 1, 0, 0), (0, 0, 1, 0), (0, 0, 0, 1)]\n",
      "Number of all states\n",
      "4\n",
      "Final list of all states written as integers with corresponding kinetic energy:\n",
      "[[0.0, 8], [1.0, 4], [2.0, 2], [3.0, 1]]\n",
      "Sorted final list:\n",
      "[[0.0, 8], [1.0, 4], [2.0, 2], [3.0, 1]]\n",
      "List of all nonzero scattering elements:\n",
      "[[0, 3, 1, 2], [1, 2, 0, 3]]\n",
      "  0   1   2   3\n",
      "0 0.0 0.0 0.0 0.0\n",
      "1 0.0 1.0 0.0 0.0\n",
      "2 0.0 0.0 2.0 0.0\n",
      "3 0.0 0.0 0.0 3.0\n",
      "[[0.0, 8], [1.0, 4], [2.0, 2], [3.0, 1]]\n",
      "4\n",
      "[[ 1.  0.  0.  0.]\n",
      " [ 0.  1.  0.  0.]\n",
      " [ 0.  0.  1.  0.]\n",
      " [ 0.  0.  0.  1.]]\n"
     ]
    }
   ],
   "source": [
    "# Forming N particle subspace\n",
    "\n",
    "params_N = ParamModel(Num_level = 4, Delta = 1.0, Num_part = 1, Scat_ampl = 1.0)\n",
    "\n",
    "basis_N, eigen_vectors_N = SubspaceInfo(params_N, verbose_states = True, verbose_matrix = True)\n",
    "print(\"Basis vectors with corresponding energy:\")\n",
    "print(basis_N)\n",
    "print(\"Number of basis vectors:\")\n",
    "print(len(basis_N))\n",
    "print(\"Eigen vectors of Hamiltonian matrix:\")\n",
    "print(eigen_vectors_N)"
   ]
  },
  {
   "cell_type": "code",
   "execution_count": 56,
   "metadata": {
    "collapsed": false
   },
   "outputs": [],
   "source": [
    "def MasterEquationPrep(basis_Nplus1, eigen_vectors_Nplus1, params, basis_N, eigen_vectors_N, verbose = True):\n",
    "    '''\n",
    "    This function calculates A_{ij} = \\sum_{m=0}^{M-1}<\\phi_i|\\hat{c}_m|\\psi_j> for given N and N+1.\n",
    "    '''   \n",
    "    \n",
    "    print(\"N= \", params.Num_part -1, \"N+1= \", params.Num_part) \n",
    "\n",
    "    for index_state_left in range(len(basis_N)): # marks number for the left state\n",
    "        for index_state_right in range(len(basis_Nplus1)): # marks number for the right state\n",
    "            sum_total = 0\n",
    "            for index in range(params.Num_level): # marks index for annihilation operator \\hat{c}_index\n",
    "                  \n",
    "                ket_vector_Nplus1 = Eigen_vector_ket(basis_Nplus1, eigen_vectors_Nplus1, index_state_right)        \n",
    "                ket_vector_final = Kill_Eigen_State(ket_vector_Nplus1, params, index)\n",
    "                \n",
    "                # The complex conjugation in the left bra vector is not considered here,\n",
    "                # because all elements of eigen states are choosen to be real.\n",
    "                ket_vector_N = Eigen_vector_ket(basis_N, eigen_vectors_N, index_state_left) \n",
    "\n",
    "                # Now we can calculate <phi_{index_state_left}|c_index|phi_{index_state_right}>\n",
    "                scal_prod = 0\n",
    "                for i in range (len(ket_vector_N)):\n",
    "                    for j in range (len(ket_vector_Nplus1)):\n",
    "                        if(ket_vector_N[i][1] == ket_vector_final[j][1]):\n",
    "                            scal_prod += ket_vector_N[i][0]*ket_vector_final[j][0]\n",
    "                        #print('scal_prod', scal_prod)\n",
    "                sum_total += scal_prod\n",
    "\n",
    "                if(verbose == True):                    \n",
    "                    print(\"index= \", index, \"index_state_left= \", index_state_left, \"index_state_right= \", index_state_right)\n",
    "                    print(ket_vector_N)\n",
    "                    print(ket_vector_Nplus1)\n",
    "                    print(ket_vector_final)    \n",
    "                    print(\"scal_prod= \", scal_prod)\n",
    "            print(\"i= \", index_state_left, \"j=\", index_state_right, sum_total)\n"
   ]
  },
  {
   "cell_type": "code",
   "execution_count": 57,
   "metadata": {
    "collapsed": false
   },
   "outputs": [
    {
     "name": "stdout",
     "output_type": "stream",
     "text": [
      "N=  1 N+1=  2\n",
      "i=  0 j= 0 0.707106781187\n",
      "i=  0 j= 1 -0.707106781187\n",
      "i=  0 j= 2 -1.0\n",
      "i=  0 j= 3 -1.0\n",
      "i=  0 j= 4 0.0\n",
      "i=  0 j= 5 0.0\n",
      "i=  1 j= 0 -0.707106781187\n",
      "i=  1 j= 1 -0.707106781187\n",
      "i=  1 j= 2 1.0\n",
      "i=  1 j= 3 0.0\n",
      "i=  1 j= 4 -1.0\n",
      "i=  1 j= 5 0.0\n",
      "i=  2 j= 0 0.707106781187\n",
      "i=  2 j= 1 0.707106781187\n",
      "i=  2 j= 2 0.0\n",
      "i=  2 j= 3 1.0\n",
      "i=  2 j= 4 0.0\n",
      "i=  2 j= 5 -1.0\n",
      "i=  3 j= 0 -0.707106781187\n",
      "i=  3 j= 1 0.707106781187\n",
      "i=  3 j= 2 0.0\n",
      "i=  3 j= 3 0.0\n",
      "i=  3 j= 4 1.0\n",
      "i=  3 j= 5 1.0\n"
     ]
    }
   ],
   "source": [
    "MasterEquationPrep(basis_Nplus1, eigen_vectors_Nplus1, params_Nplus1, basis_N, eigen_vectors_N, verbose = False)"
   ]
  },
  {
   "cell_type": "code",
   "execution_count": 9,
   "metadata": {
    "collapsed": false
   },
   "outputs": [
    {
     "name": "stderr",
     "output_type": "stream",
     "text": [
      "test_6_5 (tests.TestGround_State) ... ok\n",
      "test_6_6 (tests.TestGround_State) ... ok\n",
      "test_error_negative (tests.TestGround_State) ... ok\n",
      "test_error_smaller (tests.TestGround_State) ... ok\n",
      "\n",
      "----------------------------------------------------------------------\n",
      "Ran 4 tests in 0.019s\n",
      "\n",
      "OK\n",
      "test_7 (tests.TestTo_integer) ... ok\n",
      "\n",
      "----------------------------------------------------------------------\n",
      "Ran 1 test in 0.006s\n",
      "\n",
      "OK\n",
      "test_4 (tests.TestKillState) ... ok\n",
      "test_negative_numbers (tests.TestKillState) ... ok\n",
      "test_too_big_index (tests.TestKillState) ... ok\n",
      "\n",
      "----------------------------------------------------------------------\n",
      "Ran 3 tests in 0.014s\n",
      "\n",
      "OK\n",
      "test_12 (tests.TestCreateState) ... ok\n",
      "test_negative_numbers (tests.TestCreateState) ... ok\n",
      "test_too_big_index (tests.TestCreateState) ... ok\n",
      "\n",
      "----------------------------------------------------------------------\n",
      "Ran 3 tests in 0.008s\n",
      "\n",
      "OK\n"
     ]
    },
    {
     "data": {
      "text/plain": [
       "<unittest.runner.TextTestResult run=3 errors=0 failures=0>"
      ]
     },
     "execution_count": 9,
     "metadata": {},
     "output_type": "execute_result"
    }
   ],
   "source": [
    "# Some unit test\n",
    "\n",
    "import unittest\n",
    "from tests import *\n",
    "suite = unittest.TestLoader().loadTestsFromTestCase(TestGround_State)\n",
    "unittest.TextTestRunner(verbosity=2).run(suite)\n",
    "\n",
    "suite = unittest.TestLoader().loadTestsFromTestCase(TestTo_integer)\n",
    "unittest.TextTestRunner(verbosity=2).run(suite)\n",
    "\n",
    "suite = unittest.TestLoader().loadTestsFromTestCase(TestKillState)\n",
    "unittest.TextTestRunner(verbosity=2).run(suite)\n",
    "\n",
    "suite = unittest.TestLoader().loadTestsFromTestCase(TestCreateState)\n",
    "unittest.TextTestRunner(verbosity=2).run(suite)\n"
   ]
  },
  {
   "cell_type": "code",
   "execution_count": null,
   "metadata": {
    "collapsed": true
   },
   "outputs": [],
   "source": []
  }
 ],
 "metadata": {
  "kernelspec": {
   "display_name": "Python 3",
   "language": "python",
   "name": "python3"
  },
  "language_info": {
   "codemirror_mode": {
    "name": "ipython",
    "version": 3
   },
   "file_extension": ".py",
   "mimetype": "text/x-python",
   "name": "python",
   "nbconvert_exporter": "python",
   "pygments_lexer": "ipython3",
   "version": "3.5.1"
  }
 },
 "nbformat": 4,
 "nbformat_minor": 0
}
